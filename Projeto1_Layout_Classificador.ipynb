{
 "cells": [
  {
   "cell_type": "markdown",
   "metadata": {},
   "source": [
    "# Projeto 1 - Ciência dos Dados"
   ]
  },
  {
   "cell_type": "markdown",
   "metadata": {},
   "source": [
    "Nome: Gustavo Oliveira\n",
    "\n",
    "Nome: Gabriela Duarte\n",
    "\n",
    "Nome: Vinicius Morales"
   ]
  },
  {
   "cell_type": "markdown",
   "metadata": {},
   "source": [
    "Atenção: Serão permitidos grupos de três pessoas, mas com uma rubrica mais exigente. Grupos deste tamanho precisarão fazer um questionário de avaliação de trabalho em equipe"
   ]
  },
  {
   "cell_type": "markdown",
   "metadata": {},
   "source": [
    "___\n",
    "Carregando algumas bibliotecas:"
   ]
  },
  {
   "cell_type": "code",
   "execution_count": 190,
   "metadata": {},
   "outputs": [],
   "source": [
    "%matplotlib inline\n",
    "import pandas as pd\n",
    "import matplotlib.pyplot as plt\n",
    "import numpy as np\n",
    "import os"
   ]
  },
  {
   "cell_type": "code",
   "execution_count": 191,
   "metadata": {
    "scrolled": false
   },
   "outputs": [
    {
     "output_type": "stream",
     "name": "stdout",
     "text": [
      "Esperamos trabalhar no diretório\nc:\\Users\\guoli\\OneDrive\\Faculdades\\Insper\\Semestre 2\\Ciencia dos dados\\P1\\Projeto-1-CDados\n"
     ]
    }
   ],
   "source": [
    "print('Esperamos trabalhar no diretório')\n",
    "print(os.getcwd())"
   ]
  },
  {
   "cell_type": "markdown",
   "metadata": {},
   "source": [
    "Carregando a base de dados com os tweets classificados como relevantes e não relevantes:"
   ]
  },
  {
   "cell_type": "code",
   "execution_count": 192,
   "metadata": {},
   "outputs": [],
   "source": [
    "filename = 'trabalho1bbb.gu.xlsx'"
   ]
  },
  {
   "cell_type": "code",
   "execution_count": 193,
   "metadata": {
    "scrolled": true
   },
   "outputs": [
    {
     "output_type": "execute_result",
     "data": {
      "text/plain": [
       "                                         Treinamento BBB 21 Outros BBB  \\\n",
       "0  flans, corre aqui! @gecychaves @meninodelll @m...    NaN        NaN   \n",
       "1  @m0m0v0gue sim \\n\\n#bbtvi2020 #followtrick #fo...    NaN        NaN   \n",
       "2  so conheço o 1 e 3 ent nao posso opinar\\n\\n#fo...    NaN        NaN   \n",
       "3  vou fazer meu msd de uma vez\\n\\n#follotrick #b...    NaN        NaN   \n",
       "4  legal as minhas favs 😍\\nmas acho que vou de an...    NaN        NaN   \n",
       "\n",
       "  irrelevantes  \n",
       "0            x  \n",
       "1            x  \n",
       "2            x  \n",
       "3            x  \n",
       "4            x  "
      ],
      "text/html": "<div>\n<style scoped>\n    .dataframe tbody tr th:only-of-type {\n        vertical-align: middle;\n    }\n\n    .dataframe tbody tr th {\n        vertical-align: top;\n    }\n\n    .dataframe thead th {\n        text-align: right;\n    }\n</style>\n<table border=\"1\" class=\"dataframe\">\n  <thead>\n    <tr style=\"text-align: right;\">\n      <th></th>\n      <th>Treinamento</th>\n      <th>BBB 21</th>\n      <th>Outros BBB</th>\n      <th>irrelevantes</th>\n    </tr>\n  </thead>\n  <tbody>\n    <tr>\n      <th>0</th>\n      <td>flans, corre aqui! @gecychaves @meninodelll @m...</td>\n      <td>NaN</td>\n      <td>NaN</td>\n      <td>x</td>\n    </tr>\n    <tr>\n      <th>1</th>\n      <td>@m0m0v0gue sim \\n\\n#bbtvi2020 #followtrick #fo...</td>\n      <td>NaN</td>\n      <td>NaN</td>\n      <td>x</td>\n    </tr>\n    <tr>\n      <th>2</th>\n      <td>so conheço o 1 e 3 ent nao posso opinar\\n\\n#fo...</td>\n      <td>NaN</td>\n      <td>NaN</td>\n      <td>x</td>\n    </tr>\n    <tr>\n      <th>3</th>\n      <td>vou fazer meu msd de uma vez\\n\\n#follotrick #b...</td>\n      <td>NaN</td>\n      <td>NaN</td>\n      <td>x</td>\n    </tr>\n    <tr>\n      <th>4</th>\n      <td>legal as minhas favs 😍\\nmas acho que vou de an...</td>\n      <td>NaN</td>\n      <td>NaN</td>\n      <td>x</td>\n    </tr>\n  </tbody>\n</table>\n</div>"
     },
     "metadata": {},
     "execution_count": 193
    }
   ],
   "source": [
    "train = pd.read_excel(filename)\n",
    "filtra_linhas1 = train['BBB 21'] == 'x'\n",
    "filtra_linhas2 = train['Outros BBB'] == 'x'\n",
    "filtra_linhas3 = train['irrelevantes'] == 'x'\n",
    "treinamento = train.loc[:, ['Treinamento', 'BBB 21', 'Outros BBB', 'irrelevantes']]\n",
    "treinamento.head(5)"
   ]
  },
  {
   "cell_type": "code",
   "execution_count": 194,
   "metadata": {
    "scrolled": true
   },
   "outputs": [
    {
     "output_type": "execute_result",
     "data": {
      "text/plain": [
       "                                               Teste  Relevancia BBB 21  \\\n",
       "0  meu detox do twitter é ler os comentários da p...           0    NaN   \n",
       "1  de acordo com o site notícias da tv, a #globo ...           0    NaN   \n",
       "2  @webtvbrasileira\\n\\nassista #bigbrotherbrasil ...           0    NaN   \n",
       "3  @jkprities sim \\n\\n#bbtvi2020 #followtrick #fo...           0    NaN   \n",
       "4  \"quem quer fica. quem não quer vai embora.\"\\n ...           0      x   \n",
       "\n",
       "  Outros BBB fiuk paredão irrelevantes  \n",
       "0          x  NaN     NaN          NaN  \n",
       "1        NaN  NaN     NaN            x  \n",
       "2        NaN  NaN     NaN            x  \n",
       "3        NaN  NaN     NaN            x  \n",
       "4        NaN  NaN       x          NaN  "
      ],
      "text/html": "<div>\n<style scoped>\n    .dataframe tbody tr th:only-of-type {\n        vertical-align: middle;\n    }\n\n    .dataframe tbody tr th {\n        vertical-align: top;\n    }\n\n    .dataframe thead th {\n        text-align: right;\n    }\n</style>\n<table border=\"1\" class=\"dataframe\">\n  <thead>\n    <tr style=\"text-align: right;\">\n      <th></th>\n      <th>Teste</th>\n      <th>Relevancia</th>\n      <th>BBB 21</th>\n      <th>Outros BBB</th>\n      <th>fiuk</th>\n      <th>paredão</th>\n      <th>irrelevantes</th>\n    </tr>\n  </thead>\n  <tbody>\n    <tr>\n      <th>0</th>\n      <td>meu detox do twitter é ler os comentários da p...</td>\n      <td>0</td>\n      <td>NaN</td>\n      <td>x</td>\n      <td>NaN</td>\n      <td>NaN</td>\n      <td>NaN</td>\n    </tr>\n    <tr>\n      <th>1</th>\n      <td>de acordo com o site notícias da tv, a #globo ...</td>\n      <td>0</td>\n      <td>NaN</td>\n      <td>NaN</td>\n      <td>NaN</td>\n      <td>NaN</td>\n      <td>x</td>\n    </tr>\n    <tr>\n      <th>2</th>\n      <td>@webtvbrasileira\\n\\nassista #bigbrotherbrasil ...</td>\n      <td>0</td>\n      <td>NaN</td>\n      <td>NaN</td>\n      <td>NaN</td>\n      <td>NaN</td>\n      <td>x</td>\n    </tr>\n    <tr>\n      <th>3</th>\n      <td>@jkprities sim \\n\\n#bbtvi2020 #followtrick #fo...</td>\n      <td>0</td>\n      <td>NaN</td>\n      <td>NaN</td>\n      <td>NaN</td>\n      <td>NaN</td>\n      <td>x</td>\n    </tr>\n    <tr>\n      <th>4</th>\n      <td>\"quem quer fica. quem não quer vai embora.\"\\n ...</td>\n      <td>0</td>\n      <td>x</td>\n      <td>NaN</td>\n      <td>NaN</td>\n      <td>x</td>\n      <td>NaN</td>\n    </tr>\n  </tbody>\n</table>\n</div>"
     },
     "metadata": {},
     "execution_count": 194
    }
   ],
   "source": [
    "test = pd.read_excel(filename, sheet_name = 'Teste')\n",
    "test.head(5)"
   ]
  },
  {
   "cell_type": "markdown",
   "metadata": {},
   "source": [
    "___\n",
    "## Classificador automático de sentimento\n"
   ]
  },
  {
   "cell_type": "markdown",
   "metadata": {},
   "source": [
    "Faça aqui uma descrição do seu produto e o que considerou como relevante ou não relevante na classificação dos tweets.\n",
    "\n",
    "Nossos dados são sobre o BBB, onde nós filtramos eles por 3 categorias, se o tweet é relacionado a BBB 21, outros BBBs e se o Tweet é relevante ou não."
   ]
  },
  {
   "cell_type": "markdown",
   "metadata": {},
   "source": [
    "___\n",
    "### Montando um Classificador Naive-Bayes\n",
    "\n",
    "Considerando apenas as mensagens da planilha Treinamento, ensine  seu classificador."
   ]
  },
  {
   "cell_type": "code",
   "execution_count": 195,
   "metadata": {
    "scrolled": false
   },
   "outputs": [
    {
     "output_type": "stream",
     "name": "stderr",
     "text": [
      "<ipython-input-195-41a49bd78ff1>:16: SettingWithCopyWarning: \nA value is trying to be set on a copy of a slice from a DataFrame\n\nSee the caveats in the documentation: https://pandas.pydata.org/pandas-docs/stable/user_guide/indexing.html#returning-a-view-versus-a-copy\n  train.Treinamento[i] = cleanup(train.Treinamento[i].lower())\n"
     ]
    },
    {
     "output_type": "execute_result",
     "data": {
      "text/plain": [
       "                                           Treinamento  Relevancia BBB 21  \\\n",
       "0    flans corre aqui   a quixitagem ta fofona dema...           0    NaN   \n",
       "1    sim bbtvi2020 followtrick follotrick kpop kpop...           0    NaN   \n",
       "2    so conheço o 1 e 3 ent nao posso opinarfollotr...           0    NaN   \n",
       "3    vou fazer meu msd de uma vezfollotrick bbtvi r...           0    NaN   \n",
       "4    legal as minhas favs 😍mas acho que vou de anyf...           0    NaN   \n",
       "..                                                 ...         ...    ...   \n",
       "495  rt  sigam nosso instagram e fiquem por dentro ...           1    NaN   \n",
       "496  terminei de ver o episódio s21  e52 de big bro...           1    NaN   \n",
       "497  rt  ai queria ficar aqui tweetando sobre a fes...           1      x   \n",
       "498  bbb tá on gizelly bicalho lembra momentos do b...           1    NaN   \n",
       "499  acabei de assistir big brother brasil s21  e52...           1    NaN   \n",
       "\n",
       "    Outros BBB fiuk paredão irrelevantes  \n",
       "0          NaN  NaN     NaN            x  \n",
       "1          NaN  NaN     NaN            x  \n",
       "2          NaN  NaN     NaN            x  \n",
       "3          NaN  NaN     NaN            x  \n",
       "4          NaN  NaN     NaN            x  \n",
       "..         ...  ...     ...          ...  \n",
       "495        NaN  NaN       x          NaN  \n",
       "496          x  NaN     NaN          NaN  \n",
       "497        NaN  NaN     NaN          NaN  \n",
       "498          x  NaN     NaN          NaN  \n",
       "499          x  NaN     NaN          NaN  \n",
       "\n",
       "[500 rows x 7 columns]"
      ],
      "text/html": "<div>\n<style scoped>\n    .dataframe tbody tr th:only-of-type {\n        vertical-align: middle;\n    }\n\n    .dataframe tbody tr th {\n        vertical-align: top;\n    }\n\n    .dataframe thead th {\n        text-align: right;\n    }\n</style>\n<table border=\"1\" class=\"dataframe\">\n  <thead>\n    <tr style=\"text-align: right;\">\n      <th></th>\n      <th>Treinamento</th>\n      <th>Relevancia</th>\n      <th>BBB 21</th>\n      <th>Outros BBB</th>\n      <th>fiuk</th>\n      <th>paredão</th>\n      <th>irrelevantes</th>\n    </tr>\n  </thead>\n  <tbody>\n    <tr>\n      <th>0</th>\n      <td>flans corre aqui   a quixitagem ta fofona dema...</td>\n      <td>0</td>\n      <td>NaN</td>\n      <td>NaN</td>\n      <td>NaN</td>\n      <td>NaN</td>\n      <td>x</td>\n    </tr>\n    <tr>\n      <th>1</th>\n      <td>sim bbtvi2020 followtrick follotrick kpop kpop...</td>\n      <td>0</td>\n      <td>NaN</td>\n      <td>NaN</td>\n      <td>NaN</td>\n      <td>NaN</td>\n      <td>x</td>\n    </tr>\n    <tr>\n      <th>2</th>\n      <td>so conheço o 1 e 3 ent nao posso opinarfollotr...</td>\n      <td>0</td>\n      <td>NaN</td>\n      <td>NaN</td>\n      <td>NaN</td>\n      <td>NaN</td>\n      <td>x</td>\n    </tr>\n    <tr>\n      <th>3</th>\n      <td>vou fazer meu msd de uma vezfollotrick bbtvi r...</td>\n      <td>0</td>\n      <td>NaN</td>\n      <td>NaN</td>\n      <td>NaN</td>\n      <td>NaN</td>\n      <td>x</td>\n    </tr>\n    <tr>\n      <th>4</th>\n      <td>legal as minhas favs 😍mas acho que vou de anyf...</td>\n      <td>0</td>\n      <td>NaN</td>\n      <td>NaN</td>\n      <td>NaN</td>\n      <td>NaN</td>\n      <td>x</td>\n    </tr>\n    <tr>\n      <th>...</th>\n      <td>...</td>\n      <td>...</td>\n      <td>...</td>\n      <td>...</td>\n      <td>...</td>\n      <td>...</td>\n      <td>...</td>\n    </tr>\n    <tr>\n      <th>495</th>\n      <td>rt  sigam nosso instagram e fiquem por dentro ...</td>\n      <td>1</td>\n      <td>NaN</td>\n      <td>NaN</td>\n      <td>NaN</td>\n      <td>x</td>\n      <td>NaN</td>\n    </tr>\n    <tr>\n      <th>496</th>\n      <td>terminei de ver o episódio s21  e52 de big bro...</td>\n      <td>1</td>\n      <td>NaN</td>\n      <td>x</td>\n      <td>NaN</td>\n      <td>NaN</td>\n      <td>NaN</td>\n    </tr>\n    <tr>\n      <th>497</th>\n      <td>rt  ai queria ficar aqui tweetando sobre a fes...</td>\n      <td>1</td>\n      <td>x</td>\n      <td>NaN</td>\n      <td>NaN</td>\n      <td>NaN</td>\n      <td>NaN</td>\n    </tr>\n    <tr>\n      <th>498</th>\n      <td>bbb tá on gizelly bicalho lembra momentos do b...</td>\n      <td>1</td>\n      <td>NaN</td>\n      <td>x</td>\n      <td>NaN</td>\n      <td>NaN</td>\n      <td>NaN</td>\n    </tr>\n    <tr>\n      <th>499</th>\n      <td>acabei de assistir big brother brasil s21  e52...</td>\n      <td>1</td>\n      <td>NaN</td>\n      <td>x</td>\n      <td>NaN</td>\n      <td>NaN</td>\n      <td>NaN</td>\n    </tr>\n  </tbody>\n</table>\n<p>500 rows × 7 columns</p>\n</div>"
     },
     "metadata": {},
     "execution_count": 195
    }
   ],
   "source": [
    "import re\n",
    "\n",
    "\n",
    "def cleanup(text):\n",
    "    \"\"\"\n",
    "        Função de limpeza muito simples que troca alguns sinais básicos por espaços\n",
    "    \"\"\"\n",
    "    #import string\n",
    "    punctuation = '\\@\\w+\\s?|[\\n!-,.:?;|]' # Note que os sinais [] são delimitadores de um conjunto.\n",
    "    pattern = re.compile(punctuation)\n",
    "    text_subbed = re.sub(pattern, '', text)\n",
    "    \n",
    "    return text_subbed\n",
    "\n",
    "for i in range(500):\n",
    "    train.Treinamento[i] = cleanup(train.Treinamento[i].lower())\n",
    "\n",
    "train"
   ]
  },
  {
   "cell_type": "code",
   "execution_count": 196,
   "metadata": {},
   "outputs": [],
   "source": [
    "filtra_linhas1 = train['BBB 21'] == 'x'\n",
    "tabelaBBB21 = train.loc[filtra_linhas1,['Treinamento']] # Tabela filtrada com apenas os dados relevantes de BBB21\n",
    "\n",
    "filtra_linhas2 = train['Outros BBB'] == 'x'\n",
    "tabela_outros = train.loc[filtra_linhas2,['Treinamento']] # Tabela filtrada com apenas os dados relevantes de Outros BBB\n",
    "\n",
    "filtra_linhas3 = train['irrelevantes'] == 'x'\n",
    "tabela_ir = train.loc[filtra_linhas3,['Treinamento']] # Tabela filtrada com apenas os dados relevantes de Irrelevantes"
   ]
  },
  {
   "cell_type": "code",
   "execution_count": 197,
   "metadata": {},
   "outputs": [],
   "source": [
    "# Transformando as linhas dos DataFrames em arrays de strings\n",
    "palavras_train_BBB21 = tabelaBBB21.values.tolist()\n",
    "palavras_train_outros = tabela_outros.values.tolist()\n",
    "palavras_train_ir = tabela_ir.values.tolist()"
   ]
  },
  {
   "cell_type": "code",
   "execution_count": 198,
   "metadata": {
    "scrolled": true
   },
   "outputs": [],
   "source": [
    "# Fazendo o join dos arrays em strings\n",
    "palavras_train_BBB21 = ''.join(x for sub in palavras_train_BBB21 for x in sub)\n",
    "palavras_train_outros = ''.join(x for sub in palavras_train_outros for x in sub)\n",
    "palavras_train_ir = ''.join(x for sub in palavras_train_ir for x in sub)"
   ]
  },
  {
   "cell_type": "code",
   "execution_count": 199,
   "metadata": {
    "scrolled": false
   },
   "outputs": [
    {
     "output_type": "execute_result",
     "data": {
      "text/plain": [
       "<bound method NDFrame.head of bbb21                      328\n",
       "bigbrotherbrasil           291\n",
       "e                          253\n",
       "a                          206\n",
       "o                          203\n",
       "                          ... \n",
       "lumenato                     1\n",
       "https//tco/csku7jtic4rt      1\n",
       "sonho                        1\n",
       "bigbrother2021corre          1\n",
       "videntefollotrick            1\n",
       "Length: 2396, dtype: int64>"
      ]
     },
     "metadata": {},
     "execution_count": 199
    }
   ],
   "source": [
    "palavras_train_BBB21 = palavras_train_BBB21.split()\n",
    "serieBBB21 = pd.Series(palavras_train_BBB21)\n",
    "tabela_absolute_BBB21 = serieBBB21.value_counts()\n",
    "tabela_absolute_BBB21.head"
   ]
  },
  {
   "cell_type": "code",
   "execution_count": 200,
   "metadata": {},
   "outputs": [
    {
     "output_type": "execute_result",
     "data": {
      "text/plain": [
       "bigbrotherbrasil    13\n",
       "de                  12\n",
       "brasil              10\n",
       "s21                 10\n",
       "brother             10\n",
       "dtype: int64"
      ]
     },
     "metadata": {},
     "execution_count": 200
    }
   ],
   "source": [
    "palavras_train_outros = palavras_train_outros.split()\n",
    "serie_outros = pd.Series(palavras_train_outros)\n",
    "tabela_absolute_outros = serie_outros.value_counts()\n",
    "tabela_absolute_outros.head()"
   ]
  },
  {
   "cell_type": "code",
   "execution_count": 201,
   "metadata": {},
   "outputs": [],
   "source": [
    "palavras_train_ir = palavras_train_ir.split()\n",
    "serie_ir = pd.Series(palavras_train_ir)\n",
    "tabela_absolute_ir = serie_ir.value_counts()\n",
    "tabela_absolute_ir.head()\n",
    "len_palavras_train_ir = len(palavras_train_ir)"
   ]
  },
  {
   "cell_type": "code",
   "execution_count": 202,
   "metadata": {},
   "outputs": [
    {
     "output_type": "execute_result",
     "data": {
      "text/plain": [
       "9106"
      ]
     },
     "metadata": {},
     "execution_count": 202
    }
   ],
   "source": [
    "tabela_absolute_BBB21.sum()"
   ]
  },
  {
   "cell_type": "code",
   "execution_count": 203,
   "metadata": {},
   "outputs": [
    {
     "output_type": "execute_result",
     "data": {
      "text/plain": [
       "267"
      ]
     },
     "metadata": {},
     "execution_count": 203
    }
   ],
   "source": [
    "tabela_absolute_outros.sum()"
   ]
  },
  {
   "cell_type": "code",
   "execution_count": 204,
   "metadata": {},
   "outputs": [
    {
     "output_type": "execute_result",
     "data": {
      "text/plain": [
       "827"
      ]
     },
     "metadata": {},
     "execution_count": 204
    }
   ],
   "source": [
    "tabela_absolute_ir.sum()"
   ]
  },
  {
   "cell_type": "code",
   "execution_count": 205,
   "metadata": {},
   "outputs": [
    {
     "output_type": "execute_result",
     "data": {
      "text/plain": [
       "bbb21                      328\n",
       "bigbrotherbrasil           291\n",
       "e                          253\n",
       "a                          206\n",
       "o                          203\n",
       "                          ... \n",
       "lumenato                     1\n",
       "https//tco/csku7jtic4rt      1\n",
       "sonho                        1\n",
       "bigbrother2021corre          1\n",
       "videntefollotrick            1\n",
       "Length: 2396, dtype: int64"
      ]
     },
     "metadata": {},
     "execution_count": 205
    }
   ],
   "source": [
    "tabela_absolute_BBB21"
   ]
  },
  {
   "cell_type": "code",
   "execution_count": 206,
   "metadata": {},
   "outputs": [
    {
     "output_type": "execute_result",
     "data": {
      "text/plain": [
       "bigbrotherbrasil           13\n",
       "de                         12\n",
       "brasil                     10\n",
       "s21                        10\n",
       "brother                    10\n",
       "                           ..\n",
       "bokaloka                    1\n",
       "danielrolim                 1\n",
       "https//tco/nlmqdap89geu     1\n",
       "festa                       1\n",
       "paredão                     1\n",
       "Length: 148, dtype: int64"
      ]
     },
     "metadata": {},
     "execution_count": 206
    }
   ],
   "source": [
    "tabela_absolute_outros"
   ]
  },
  {
   "cell_type": "code",
   "execution_count": 207,
   "metadata": {},
   "outputs": [
    {
     "output_type": "execute_result",
     "data": {
      "text/plain": [
       "bbb21                         51\n",
       "bigbrotherbrasil              33\n",
       "kpop                          29\n",
       "redebbb                       26\n",
       "kpoptwitter                   21\n",
       "                              ..\n",
       "https//tco/r681ggnj9flegal     1\n",
       "https//tco/fh4hrhfrheso        1\n",
       "favs                           1\n",
       "vip                            1\n",
       "lacração                       1\n",
       "Length: 371, dtype: int64"
      ]
     },
     "metadata": {},
     "execution_count": 207
    }
   ],
   "source": [
    "tabela_absolute_ir"
   ]
  },
  {
   "cell_type": "code",
   "execution_count": 208,
   "metadata": {},
   "outputs": [],
   "source": [
    "# Probabilidades absolutas sem Laplace Smoothing\n",
    "#probBBB = tabela_absolute_BBB21.sum()/(tabela_absolute_BBB21.sum()+tabela_absolute_outros.sum()+tabela_absolute_ir.sum())\n",
    "#probOutros = tabela_absolute_outros.sum()/(tabela_absolute_BBB21.sum()+tabela_absolute_outros.sum()+tabela_absolute_ir.sum())\n",
    "#probIr = tabela_absolute_ir.sum()/(tabela_absolute_BBB21.sum()+tabela_absolute_outros.sum()+tabela_absolute_ir.sum())"
   ]
  },
  {
   "cell_type": "code",
   "execution_count": 209,
   "metadata": {},
   "outputs": [],
   "source": [
    "def laplace(palavra, dicionario):\n",
    "    ocorrencias = dicionario[palavra] if palavra in dicionario else 0\n",
    "    resultado = (ocorrencias + 1)/(dicionario.sum() + len(dicionario))\n",
    "    \n",
    "    return resultado"
   ]
  },
  {
   "cell_type": "code",
   "execution_count": 210,
   "metadata": {},
   "outputs": [],
   "source": [
    "def classifica_frase(frase):\n",
    "    probPalavraDadoBBB21 = 1\n",
    "    probPalavraDadoOutros = 1\n",
    "    probPalavraDadoIr = 1\n",
    "    frase = cleanup(frase)\n",
    "    palavras = frase.split(' ')\n",
    "    for palavra in palavras:\n",
    "        probPalavraDadoBBB21 *= laplace(palavra, tabela_absolute_BBB21)\n",
    "        probPalavraDadoOutros *= laplace(palavra, tabela_absolute_outros)\n",
    "        probPalavraDadoIr *= laplace(palavra, tabela_absolute_ir)\n",
    "    \n",
    "    if probPalavraDadoBBB21 > probPalavraDadoIr and probPalavraDadoBBB21 > probPalavraDadoOutros:\n",
    "        return 'BBB21'\n",
    "    elif probPalavraDadoIr > probPalavraDadoBBB21 and probPalavraDadoIr > probPalavraDadoOutros:\n",
    "        return 'Irrelevantes'\n",
    "    elif probPalavraDadoOutros > probPalavraDadoBBB21 and probPalavraDadoOutros > probPalavraDadoIr:\n",
    "        return 'Outros BBB'"
   ]
  },
  {
   "cell_type": "code",
   "execution_count": 216,
   "metadata": {},
   "outputs": [
    {
     "output_type": "execute_result",
     "data": {
      "text/plain": [
       "'BBB21'"
      ]
     },
     "metadata": {},
     "execution_count": 216
    }
   ],
   "source": [
    "classifica_frase('fiuk')"
   ]
  },
  {
   "cell_type": "code",
   "execution_count": 212,
   "metadata": {},
   "outputs": [
    {
     "output_type": "execute_result",
     "data": {
      "text/plain": [
       "1.3593019631021744e-54"
      ]
     },
     "metadata": {},
     "execution_count": 212
    }
   ],
   "source": [
    "probPalavraDadoBBB21"
   ]
  },
  {
   "cell_type": "code",
   "execution_count": 213,
   "metadata": {},
   "outputs": [
    {
     "output_type": "execute_result",
     "data": {
      "text/plain": [
       "8.09386029377939e-41"
      ]
     },
     "metadata": {},
     "execution_count": 213
    }
   ],
   "source": [
    "probPalavraDadoOutros"
   ]
  },
  {
   "cell_type": "code",
   "execution_count": 214,
   "metadata": {},
   "outputs": [
    {
     "output_type": "execute_result",
     "data": {
      "text/plain": [
       "1.0906148592374609e-47"
      ]
     },
     "metadata": {},
     "execution_count": 214
    }
   ],
   "source": [
    "probPalavraDadoIr"
   ]
  },
  {
   "cell_type": "markdown",
   "metadata": {},
   "source": [
    "___\n",
    "### Verificando a performance do Classificador\n",
    "\n",
    "Agora você deve testar o seu classificador com a base de Testes."
   ]
  },
  {
   "cell_type": "code",
   "execution_count": null,
   "metadata": {},
   "outputs": [],
   "source": []
  },
  {
   "cell_type": "code",
   "execution_count": null,
   "metadata": {},
   "outputs": [],
   "source": []
  },
  {
   "cell_type": "code",
   "execution_count": null,
   "metadata": {},
   "outputs": [],
   "source": []
  },
  {
   "cell_type": "markdown",
   "metadata": {},
   "source": [
    "___\n",
    "### Concluindo"
   ]
  },
  {
   "cell_type": "code",
   "execution_count": null,
   "metadata": {},
   "outputs": [],
   "source": []
  },
  {
   "cell_type": "code",
   "execution_count": null,
   "metadata": {},
   "outputs": [],
   "source": []
  },
  {
   "cell_type": "code",
   "execution_count": null,
   "metadata": {},
   "outputs": [],
   "source": []
  },
  {
   "cell_type": "markdown",
   "metadata": {},
   "source": [
    "___\n",
    "### Qualidade do Classificador a partir de novas separações dos tweets entre Treinamento e Teste\n",
    "\n",
    "Caso for fazer esse item do Projeto"
   ]
  },
  {
   "cell_type": "code",
   "execution_count": null,
   "metadata": {},
   "outputs": [],
   "source": []
  },
  {
   "cell_type": "code",
   "execution_count": null,
   "metadata": {},
   "outputs": [],
   "source": []
  },
  {
   "cell_type": "code",
   "execution_count": null,
   "metadata": {},
   "outputs": [],
   "source": []
  },
  {
   "cell_type": "markdown",
   "metadata": {},
   "source": [
    "___\n",
    "## Aperfeiçoamento:\n",
    "\n",
    "Os trabalhos vão evoluir em conceito dependendo da quantidade de itens avançados:\n",
    "\n",
    "* Limpar: \\n, :, \", ', (, ), etc SEM remover emojis\n",
    "* Corrigir separação de espaços entre palavras e emojis ou entre emojis e emojis\n",
    "* Propor outras limpezas e transformações que não afetem a qualidade da informação ou classificação\n",
    "* Criar categorias intermediárias de relevância baseadas na probabilidade: ex.: muito relevante, relevante, neutro, irrelevante, muito irrelevante (3 categorias: C, mais categorias conta para B)\n",
    "* Explicar por que não posso usar o próprio classificador para gerar mais amostras de treinamento\n",
    "* Propor diferentes cenários para Naïve Bayes fora do contexto do projeto\n",
    "* Sugerir e explicar melhorias reais com indicações concretas de como implementar (indicar como fazer e indicar material de pesquisa)\n"
   ]
  },
  {
   "cell_type": "markdown",
   "metadata": {},
   "source": [
    "___\n",
    "## Referências"
   ]
  },
  {
   "cell_type": "markdown",
   "metadata": {},
   "source": [
    "[Naive Bayes and Text Classification](https://arxiv.org/pdf/1410.5329.pdf)  **Mais completo**\n",
    "\n",
    "[A practical explanation of a Naive Bayes Classifier](https://monkeylearn.com/blog/practical-explanation-naive-bayes-classifier/) **Mais simples**"
   ]
  },
  {
   "cell_type": "code",
   "execution_count": null,
   "metadata": {},
   "outputs": [],
   "source": []
  }
 ],
 "metadata": {
  "kernelspec": {
   "name": "python383jvsc74a57bd0fb2cba9c8868ea03ce4d2334db576975d9ebaa8a871cdaf4e604c2839c34ba1e",
   "display_name": "Python 3.8.3 64-bit ('base': conda)"
  },
  "language_info": {
   "codemirror_mode": {
    "name": "ipython",
    "version": 3
   },
   "file_extension": ".py",
   "mimetype": "text/x-python",
   "name": "python",
   "nbconvert_exporter": "python",
   "pygments_lexer": "ipython3",
   "version": "3.8.3"
  }
 },
 "nbformat": 4,
 "nbformat_minor": 4
}